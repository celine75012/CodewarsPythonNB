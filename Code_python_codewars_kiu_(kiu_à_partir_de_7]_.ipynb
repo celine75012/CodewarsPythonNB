{
  "nbformat": 4,
  "nbformat_minor": 0,
  "metadata": {
    "colab": {
      "provenance": []
    },
    "kernelspec": {
      "name": "python3",
      "display_name": "Python 3"
    },
    "language_info": {
      "name": "python"
    }
  },
  "cells": [
    {
      "cell_type": "markdown",
      "source": [
        "Exo 1-Given a string of words, you need to find the highest scoring word.\n",
        "\n",
        "Each letter of a word scores points according to its position in the alphabet: a = 1, b = 2, c = 3 etc.\n",
        "\n",
        "For example, the score of abad is 8 (1 + 2 + 1 + 4).\n",
        "\n",
        "You need to return the highest scoring word as a string.\n",
        "\n",
        "If two words score the same, return the word that appears earliest in the original string.\n",
        "\n",
        "All letters will be lowercase and all inputs will be valid."
      ],
      "metadata": {
        "id": "us2LQObwWzcb"
      }
    },
    {
      "cell_type": "code",
      "execution_count": null,
      "metadata": {
        "id": "RtPjhdW_WrXB"
      },
      "outputs": [],
      "source": [
        "def high(x):\n",
        "    words = x.split()  #on divise la chaine x en mot individuelle\n",
        "    highest_score = 0 #on initialise la variable highest_score à 0\n",
        "    highest_word = '' # on initialise la variable highest_word à une chaîne de caractère vide\n",
        "\n",
        "    for word in words: #on itère à chaque mot de la liste words\n",
        "        score = sum(ord(char) - ord('a') + 1 for char in word)  #on calcure le score de chaque lettre du mot (et sa position dans l'alphabet)\n",
        "        if score > highest_score or (score == highest_score and words.index(word) < words.index(highest_word)): #on verifie si le score du mot est le plus élevé\n",
        "            highest_score = score #si oui on met à jour les deux variables highest_score et highest_word\n",
        "            highest_word = word\n",
        "\n",
        "    return highest_word"
      ]
    },
    {
      "cell_type": "markdown",
      "source": [
        "Exo 2-Build a pyramid-shaped tower, as an array/list of strings, given a positive integer number of floors. A tower block is represented with \"*\" character.\n",
        "\n",
        "For example, a tower with 3 floors looks like this:\n",
        "\n",
        "[\n",
        "  \"  *  \",\n",
        "  \" *** \",\n",
        "  \"*****\"\n",
        "]"
      ],
      "metadata": {
        "id": "DMEWQ2Q67T8j"
      }
    },
    {
      "cell_type": "code",
      "source": [
        "def tower_builder(n_floors):\n",
        "    return [(\"*\" * (i*2-1)).center(n_floors*2-1) for i in range(1, n_floors+1)] #la boucle itère à travers les nombres de 1 à n , à chaque itération\n",
        "    #la partie (\"*\" * (i*2-1)) crée une chaine de caractère contenant un nombre impair d'étoiles. La méthode center est utilisée pour centrer la chaîne d'étoiles"
      ],
      "metadata": {
        "id": "SxCQB6Z37Yoz"
      },
      "execution_count": null,
      "outputs": []
    },
    {
      "cell_type": "code",
      "source": [
        "tower_builder(10)"
      ],
      "metadata": {
        "colab": {
          "base_uri": "https://localhost:8080/"
        },
        "id": "naEmaRsK7qOU",
        "outputId": "453e7899-04ab-4c41-cfd1-c1f0f2605e5c"
      },
      "execution_count": null,
      "outputs": [
        {
          "output_type": "execute_result",
          "data": {
            "text/plain": [
              "['         *         ',\n",
              " '        ***        ',\n",
              " '       *****       ',\n",
              " '      *******      ',\n",
              " '     *********     ',\n",
              " '    ***********    ',\n",
              " '   *************   ',\n",
              " '  ***************  ',\n",
              " ' ***************** ',\n",
              " '*******************']"
            ]
          },
          "metadata": {},
          "execution_count": 3
        }
      ]
    },
    {
      "cell_type": "markdown",
      "source": [
        "Exo 3-Write a function that when given a URL as a string, parses out just the domain name and returns it as a string. For example:\n",
        "\n",
        "* url = \"http://github.com/carbonfive/raygun\" -> domain name = \"github\"\n",
        "* url = \"http://www.zombie-bites.com\"         -> domain name = \"zombie-bites\"\n",
        "* url = \"https://www.cnet.com\"                -> domain name = cnet\""
      ],
      "metadata": {
        "id": "3YmE21ex8ypg"
      }
    },
    {
      "cell_type": "code",
      "source": [
        "import re\n",
        "#on va travailler avec les regex par cette librairie\n",
        "def domain_name(url):\n",
        "    return url.split(\"www.\")[-1].split(\"//\")[-1].split(\".\")[0]\n",
        "    #on divise d'avoir la chaine de caractère de l'url en sous-chaine en utilisant \"www.\" comme séparateur.\n",
        "    #split pour diviser\n",
        "    #[-1] : on récupère de la liste résultante\n",
        "    #on redivise la sous chaine obtenue mais avec \"//\" comme séparateur , on reprend le dernier élément de la sous chaîne [-1]\n",
        "    #enfin on redivise la sous chaine obtenue en utisant \".\" comme séparateur et on prend le premier élément de la liste résultante"
      ],
      "metadata": {
        "id": "mgw-VtrU80UJ"
      },
      "execution_count": null,
      "outputs": []
    },
    {
      "cell_type": "markdown",
      "source": [
        "Exo 4-Given a list of digits, return the smallest number that could be formed from these digits, using the digits only once (ignore duplicat"
      ],
      "metadata": {
        "id": "chOvFS-C5rt_"
      }
    },
    {
      "cell_type": "code",
      "source": [
        "def min_value(digits):\n",
        "    return  int(\"\".join(map(str,sorted(set(digits)))))\n",
        "  #set(digits) élimine les doublons\n",
        "  #str converti un nombre en chaine de caractère\n",
        "  #sorted tri les éléments de la liste par ordre croissant\n",
        "  #map pour convertir chaque élément de la liste en chaine de caractère\n",
        "  #avec join on cacatène les élemnents en une seule chaine de caractère\n",
        "  #int convertit la chaine de caractère résultante en nombre entier"
      ],
      "metadata": {
        "id": "GJN0ULtW5zJe"
      },
      "execution_count": null,
      "outputs": []
    },
    {
      "cell_type": "markdown",
      "source": [
        "Exo5-A string is considered to be in title case if each word in the string is either (a) capitalised (that is, only the first letter of the word is in upper case) or (b) considered to be an exception and put entirely into lower case unless it is the first word, which is always capitalised.\n",
        "\n",
        "Write a function that will convert a string into title case, given an optional list of exceptions (minor words). The list of minor words will be given as a string with each word separated by a space. Your function should ignore the case of the minor words string -- it should behave in the same way even if the case of the minor word string is changed.\n",
        "Arguments (Haskell)\n",
        "First argument: space-delimited list of minor words that must always be lowercase except for the first word in the string.\n",
        "Second argument: the original string to be converted."
      ],
      "metadata": {
        "id": "L2hQ__KSh_q-"
      }
    },
    {
      "cell_type": "code",
      "source": [
        "import re #module de fonctionnalité des expressions régulières\n",
        "def title_case(title, minor_words=''):\n",
        "    print(title, minor_words)\n",
        "    words=re.split(' ', title) # on sépare la chaine title en mot en utilisant les espaces comme délimitateur\n",
        "    finalword=[words[0].capitalize()] #on prend le premier mot de la liste words et on met une majuscule sur la première lettre\n",
        "    minor_words = minor_words.lower().split() #on met les mots de minor_words en minuscule et on sépare chaque mot de la chaine\n",
        "    for word in words[1:]:  #on itère sur chaque mot de la liste words à partir du deuxième mot\n",
        "        finalword.append(word.capitalize() if word.lower() not in minor_words else word.lower()) #on verifie si le mot en minuscule n'appartient pas à la liste\n",
        "        #minor_words, si c'est le cas la première lettre du mot est mis en majuscule et est ajouté à la liste finalword (sinon le mot est laissé tel quel)\n",
        "\n",
        "    return \" \".join(finalword) #on retourne la finalword ou les mots sont joints par des espaces par la méthode join."
      ],
      "metadata": {
        "id": "FHu-EjPxiG4o"
      },
      "execution_count": null,
      "outputs": []
    },
    {
      "cell_type": "markdown",
      "source": [
        "Exo 5 : The maximum sum subarray problem consists in finding the maximum sum of a contiguous subsequence in an array or list of integers:\n",
        "\n",
        "max_sequence([-2, 1, -3, 4, -1, 2, 1, -5, 4])\n",
        "# should be 6: [4, -1, 2, 1]\n",
        "Easy case is when the list is made up of only positive numbers and the maximum sum is the sum of the whole array. If the list is made up of only negative numbers, return 0 instead.\n",
        "\n",
        "Empty list is considered to have zero greatest sum. Note that the empty list or array is also a valid sublist/subarray.\n",
        "\n"
      ],
      "metadata": {
        "id": "epZJbWvy0-wc"
      }
    },
    {
      "cell_type": "code",
      "source": [
        "def max_sequence(arr):\n",
        "    maxsum=0 #variable utilisée pour stocker la somme max rencontrée jusqu'à présent\n",
        "    max=0 #varialbe utilisée pour suivre la somme actuelle\n",
        "    for i in arr: #Nous itérons sur chaque nombre de la liste d'entrée\n",
        "        max += i #nous ajoutons le nombre actuel à max\n",
        "        if max > maxsum : #si max devient plus grand que max sum\n",
        "            maxsum = max  #nous mettons à jour la nouvelle valeur\n",
        "        if max < 0: #s'il devient négatif\n",
        "            max=0 # nous le réinitialisons à zéro\n",
        "    return maxsum #après avoir parcouru tous les nombres on retourne maxsum."
      ],
      "metadata": {
        "id": "kVM7SWbEjVXg"
      },
      "execution_count": null,
      "outputs": []
    },
    {
      "cell_type": "markdown",
      "source": [
        "Exo 6 : Give me a diamond\n",
        "Jamie is a programmer, and James' girlfriend. She likes diamonds, and wants a diamond string from James. Since James doesn't know how to make this happen, he needs your help.\n",
        "\n",
        "Task\n",
        "You need to return a string that looks like a diamond shape when printed on the screen, using asterisk (*) characters. Trailing spaces should be removed, and every line must be terminated with a newline character (\\n).\n",
        "\n",
        "Return null/nil/None/... if the input is an even number or negative, as it is not possible to print a diamond of even or negative size."
      ],
      "metadata": {
        "id": "vQUhTaZ1NcAk"
      }
    },
    {
      "cell_type": "code",
      "source": [
        "def diamond(n):\n",
        "    if n%2==0 or n<0 : #si n est pair ou s'il est négatif return None\n",
        "        return None\n",
        "    diamond_string = \"\" #initialisation d'une chaine diamond_string,chaine de caractère vide\n",
        "    for i in range(n):#i représente la ligne en cours et nous itérons de 0 à n-1\n",
        "        spaces = abs((n-1)//2 - i) #calcul du nombre d'espace (a diff entre le milieu du diamant et i)\n",
        "        stars = n - 2 * spaces #calcul du nombre d'étoiles (en soustrayant deux fois le nbr d'espace de la taille totale de la lign n )\n",
        "        line = ' ' * spaces + '*' * stars + '\\n' #construction de la ligne\n",
        "        diamond_string += line #ajout de la ligne à la chaine de caractère\n",
        "    return diamond_string"
      ],
      "metadata": {
        "id": "5GoUPCMyNg6y"
      },
      "execution_count": null,
      "outputs": []
    },
    {
      "cell_type": "code",
      "source": [
        "diamond(5)"
      ],
      "metadata": {
        "colab": {
          "base_uri": "https://localhost:8080/",
          "height": 36
        },
        "id": "G8qu8a2qOB_t",
        "outputId": "3236129b-7b4e-434f-fea7-c8d45a46e2c8"
      },
      "execution_count": null,
      "outputs": [
        {
          "output_type": "execute_result",
          "data": {
            "text/plain": [
              "'  *\\n ***\\n*****\\n ***\\n  *\\n'"
            ],
            "application/vnd.google.colaboratory.intrinsic+json": {
              "type": "string"
            }
          },
          "metadata": {},
          "execution_count": 5
        }
      ]
    },
    {
      "cell_type": "markdown",
      "source": [
        "Exo 7: Your online store likes to give out coupons for special occasions. Some customers try to cheat the system by entering invalid codes or using expired coupons.\n",
        "\n",
        "Task\n",
        "Your mission:\n",
        "Write a function called checkCoupon which verifies that a coupon code is valid and not expired.\n",
        "\n",
        "A coupon is no more valid on the day AFTER the expiration date. All dates will be passed as strings in this format: \"MONTH DATE, YEAR\".\n",
        "\n",
        "Examples:\n",
        "checkCoupon(\"123\", \"123\", \"July 9, 2015\", \"July 9, 2015\")  == True\n",
        "checkCoupon(\"123\", \"123\", \"July 9, 2015\", \"July 2, 2015\")  == False"
      ],
      "metadata": {
        "id": "c-qs9EwcPy2l"
      }
    },
    {
      "cell_type": "code",
      "source": [
        "import datetime\n",
        "def check_coupon(entered_code, correct_code, current_date, expiration_date):\n",
        "    if entered_code is correct_code:\n",
        "        return(datetime.datetime.strptime(current_date,'%B %d, %Y') <= datetime.datetime.strptime(expiration_date,'%B %d, %Y'))\n",
        "    return False"
      ],
      "metadata": {
        "id": "1reqvNiXP5AE"
      },
      "execution_count": null,
      "outputs": []
    },
    {
      "cell_type": "markdown",
      "source": [
        "Exo8 : Some numbers have funny properties. For example:\n",
        "\n",
        "89 --> 8¹ + 9² = 89 * 1\n",
        "\n",
        "695 --> 6² + 9³ + 5⁴= 1390 = 695 * 2\n",
        "\n",
        "46288 --> 4³ + 6⁴+ 2⁵ + 8⁶ + 8⁷ = 2360688 = 46288 * 51\n",
        "\n",
        "Given a positive integer n written as abcd... (a, b, c, d... being digits) and a positive integer p\n",
        "\n",
        "we want to find a positive integer k, if it exists, such that the sum of the digits of n taken to the successive powers of p is equal to k * n.\n",
        "In other words:\n",
        "\n",
        "Is there an integer k such as : (a ^ p + b ^ (p+1) + c ^(p+2) + d ^ (p+3) + ...) = n * k\n",
        "\n",
        "If it is the case we will return k, if not return -1.\n",
        "\n",
        "Note: n and p will always be given as strictly positive integers.\n",
        "\n",
        "dig_pow(89, 1) should return 1 since 8¹ + 9² = 89 = 89 * 1\n",
        "dig_pow(92, 1) should return -1 since there is no k such as 9¹ + 2² equals 92 * k\n",
        "dig_pow(695, 2) should return 2 since 6² + 9³ + 5⁴= 1390 = 695 * 2\n",
        "dig_pow(46288, 3) should return 51 since 4³ + 6⁴+ 2⁵ + 8⁶ + 8⁷ = 2360688 = 46288 * 51"
      ],
      "metadata": {
        "id": "ItdjPTNRYnIp"
      }
    },
    {
      "cell_type": "code",
      "source": [
        "def dig_pow(n, p):\n",
        "    r = 0  # Variable pour stocker la somme des chiffres élevés aux puissances successives\n",
        "    k = 1  # Variable pour stocker la valeur de k\n",
        "\n",
        "    # Parcourir chaque chiffre dans n\n",
        "    for digit in str(n): #on convertit en une chaine de caractère pour pouvoir parcourir chaque chiffre individuellement\n",
        "        r += int(digit) ** p  # on ajoute le chiffre élevé à la puissance p à la somme\n",
        "        p += 1  # on augmente la puissance p de 1 pour le prochain chiffre\n",
        "\n",
        "    # on verifie s'il existe un entier k tel que la somme soit égale à n * k\n",
        "    if r % n == 0:\n",
        "        k = r // n  # on calcule la valeur de k en divisant la somme par n\n",
        "        return k\n",
        "    else:\n",
        "        return -1  # Aucune valeur de k trouvée, on retourne -1\n"
      ],
      "metadata": {
        "id": "NbyPYQcVYpyt"
      },
      "execution_count": null,
      "outputs": []
    },
    {
      "cell_type": "markdown",
      "source": [
        "Exo 9: In this simple Kata your task is to create a function that turns a string into a Mexican Wave. You will be passed a string and you must return that string in an array where an uppercase letter is a person standing up.\n",
        " 1.  The input string will always be lower case but maybe empty.\n",
        "\n",
        " 2.  If the character in the string is whitespace then pass over it as if it was an empty seat"
      ],
      "metadata": {
        "id": "hqKI7qCf7G9f"
      }
    },
    {
      "cell_type": "code",
      "source": [
        "def wave(people):\n",
        "    wavemexican=[] #on crée une liste vide pour stocker la vague mexican résultante\n",
        "    for i in range(len(people)): #on itère sur chaque caractère de la chaine\n",
        "        if people[i].isalpha(): #si le caractère est alphabétique\n",
        "            wavemexican.append(people[:i]+ people[i].upper() +people[i+1:]) #on ajoute à la chaine tout en mettant en majuscule le caractère courant jusqu'à la fin d'itération\n",
        "    return wavemexican"
      ],
      "metadata": {
        "id": "f7MDJtbM7PJl"
      },
      "execution_count": null,
      "outputs": []
    },
    {
      "cell_type": "code",
      "source": [
        "wavemexican = wave(\"celine\")\n",
        "print(wavemexican)"
      ],
      "metadata": {
        "colab": {
          "base_uri": "https://localhost:8080/"
        },
        "id": "QgPSCKtP75M2",
        "outputId": "ec19c45d-907c-47b1-f5b0-5be1dbbb53d1"
      },
      "execution_count": null,
      "outputs": [
        {
          "output_type": "stream",
          "name": "stdout",
          "text": [
            "['Celine', 'cEline', 'ceLine', 'celIne', 'celiNe', 'celinE']\n"
          ]
        }
      ]
    },
    {
      "cell_type": "markdown",
      "source": [
        "Exo 10 : As a part of this Kata, you need to create a function that when provided with a triplet, returns the index of the numerical element that lies between the other two elements.\n",
        "\n",
        "The input to the function will be an array of three distinct numbers (Haskell: a tuple).\n",
        "\n",
        "For example:\n",
        "\n",
        "gimme([2, 3, 1]) => 0\n",
        "2 is the number that fits between 1 and 3 and the index of 2 in the input array is 0.\n",
        "\n",
        "Another example (just to make sure it is clear):\n",
        "\n",
        "gimme([5, 10, 14]) => 1\n",
        "10 is the number that fits between 5 and 14 and the index of 10 in the input array is 1.\n",
        "\n"
      ],
      "metadata": {
        "id": "uQCHfJTkaWWS"
      }
    },
    {
      "cell_type": "code",
      "source": [
        "def gimme(input_array):\n",
        "    return input_array.index(sorted(input_array)[1]) #j'utilise la méthode index qui permet de trouver la position dans la liste, je trie (ordre croissant)ma liste avec sorted\n",
        "    #et je retourne l'élément du milieu"
      ],
      "metadata": {
        "id": "_bPUXLIuaY9i"
      },
      "execution_count": null,
      "outputs": []
    },
    {
      "cell_type": "markdown",
      "source": [
        "Exo 11: Given a positive number n > 1 find the prime factor decomposition of n. The result will be a string with the following form :\n",
        "\n",
        " \"(p1**n1)(p2**n2)...(pk**nk)\"\n",
        "with the p(i) in increasing order and n(i) empty if n(i) is 1.\n",
        "\n",
        "Example: n = 86240 should return \"(2**5)(5)(7**2)(11)\""
      ],
      "metadata": {
        "id": "ZhUw6a1jxZRC"
      }
    },
    {
      "cell_type": "code",
      "source": [
        "def prime_factors(n):\n",
        "    print(n)\n",
        "    result = [] #stocke les facteurs premiers de n\n",
        "    factor = 2 #variable qui test (2 étant le plus petit facteur premier)\n",
        "\n",
        "    while factor * factor <= n: #tout facteur premier d'un nombre n, est inf ou égale à la racine carrée de n\n",
        "        if n % factor == 0: #si factor est un factor premier de n\n",
        "            power = 0 #combien de fois factor divise n\n",
        "            while n % factor == 0: #tant que factor divise exactement n\n",
        "                n //= factor #n divisé par factor ne laisse pas de reste\n",
        "                power += 1 #on augmente la puissance de factor car on a trouvé un facteur premier identique\n",
        "            if power >1: #si factor est un factor premier répété\n",
        "                result.append(f\"({factor}**{power})\") #ajoutons la représentation du facteur premier répété avec sa puissance à la liste result\n",
        "            else:\n",
        "                result.append(f\"({factor})\") #ajoutons la représentation du facteur premier simple (sans puissance) à la liste result\n",
        "        factor += 1 #nous passons au prochain nombre pour tester s'il est un factor premier de n\n",
        "\n",
        "    if n > 1:\n",
        "        result.append(f\"({n})\") #nous verifions si n est lui même un facteur premier  et nous l'ajoutons à la  liste résult\n",
        "\n",
        "    return \"\".join(result)"
      ],
      "metadata": {
        "id": "uSz9I1jUxbFT"
      },
      "execution_count": null,
      "outputs": []
    },
    {
      "cell_type": "markdown",
      "source": [
        "Exo 12:  In this Kata, we will calculate running pace. To do that, we have to know the distance and the time.\n",
        "\n",
        "Create the following function:\n",
        "\n",
        "running_pace(distance, time)\n",
        "\n",
        "Where: distance - A float with the number of kilometres\n",
        "\n",
        "time - A string containing the time it took to travel the distance. It will always be minutes:seconds. For example \"25:00\" means 25 minutes. You don't have to deal with hours.\n",
        "\n",
        "The function should return the pace, for example \"4:20\" means it took 4 minutes and 20 seconds to travel one kilometre.\n",
        "\n",
        "Note: The pace should always return only the number of minutes and seconds. You don't have to convert these into hours. Floor the number of seconds.\n",
        "\n"
      ],
      "metadata": {
        "id": "7sU_XPDdF_0M"
      }
    },
    {
      "cell_type": "code",
      "source": [
        "def running_pace(distance, time):\n",
        "    distance_km=float(distance) #nous convertissons les distances en km en nombre floattant\n",
        "    minutes, seconds=map(int, time.split(\":\")) #nous divisons la chaine time en minute et seconde et nous les convertissons en int (car il s'agitssait d'une chaine de caractère)\n",
        "    total_seconds=minutes *60 + seconds #cacul du temps total en secondes\n",
        "    rythm_second_per_km=total_seconds/distance_km #calcul du temps moyen en secondes par kilomètre\n",
        "    rythm_min=int(rythm_second_per_km//60) #nombre de minutes\n",
        "    rythm_second=int(rythm_second_per_km % 60) #obtention du reste en seconde\n",
        "    rythm_str = f\"{rythm_min}:{rythm_second:02}\" #formatage de la chaine de caractère de la variable / 02 pour que les secondes s'affichent avec deux chiffres\n",
        "\n",
        "    return rythm_str"
      ],
      "metadata": {
        "id": "NByF6YiFGGHh"
      },
      "execution_count": null,
      "outputs": []
    }
  ]
}