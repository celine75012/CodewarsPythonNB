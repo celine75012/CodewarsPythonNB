{
  "nbformat": 4,
  "nbformat_minor": 0,
  "metadata": {
    "colab": {
      "provenance": []
    },
    "kernelspec": {
      "name": "python3",
      "display_name": "Python 3"
    },
    "language_info": {
      "name": "python"
    }
  },
  "cells": [
    {
      "cell_type": "markdown",
      "source": [
        "### Python sans utiliser de méthodes.. quelques exemples d'exercices."
      ],
      "metadata": {
        "id": "omn2eskCDbo5"
      }
    },
    {
      "cell_type": "markdown",
      "source": [
        "Exo 1-\n",
        "Créer un programme qui filtre une liste de chaines et renvoie une liste contenant le nom de vos amis.\n",
        "Si un nom contient 4 lettres = nom ami\n",
        "\n",
        "---\n",
        "\n"
      ],
      "metadata": {
        "id": "8nOedzqjBogB"
      }
    },
    {
      "cell_type": "code",
      "execution_count": null,
      "metadata": {
        "id": "TWVGXPqivJ1m"
      },
      "outputs": [],
      "source": [
        "def friend(x):\n",
        "  ans=[]\n",
        "  for e in x:\n",
        "    if len(e)==4:\n",
        "      ans.append(e)\n",
        "  return ans"
      ]
    },
    {
      "cell_type": "markdown",
      "source": [
        "Vérification de la fonction"
      ],
      "metadata": {
        "id": "ljtCWcBkCx2F"
      }
    },
    {
      "cell_type": "code",
      "source": [
        "x=[\"Arthur\", \"Josephine\", 'Leo', 'Theo', \"Amina\", \"Paul\", \"Jerome\", \"Sofi\"]\n",
        "friend(x)"
      ],
      "metadata": {
        "colab": {
          "base_uri": "https://localhost:8080/"
        },
        "id": "0kS6z0oCCRT1",
        "outputId": "8febc0ab-7927-435d-e097-5c59badaf1f4"
      },
      "execution_count": null,
      "outputs": [
        {
          "output_type": "execute_result",
          "data": {
            "text/plain": [
              "['Theo', 'Paul', 'Sofi']"
            ]
          },
          "metadata": {},
          "execution_count": 4
        }
      ]
    },
    {
      "cell_type": "markdown",
      "source": [
        "Exo2: Les guichets automatiques acceptent les codes PIN à 4 ou 6 chiffres et les codes PIN ne peuvent contenir que 4 chiffres exactement ou 6 chiffres exactement.\n",
        "Si la fonction reçoit une chaine valide return True, sinon return False."
      ],
      "metadata": {
        "id": "1WSrimPHDJEm"
      }
    },
    {
      "cell_type": "code",
      "source": [
        "def validate_pin(pin):\n",
        "  for c in pin:\n",
        "    if not c in'0123456789':\n",
        "      return False\n",
        "    if len(pin)==4 or len(pin)==6:\n",
        "      return True\n",
        "    else:\n",
        "      return False"
      ],
      "metadata": {
        "id": "EcsB4Dn71TIe"
      },
      "execution_count": null,
      "outputs": []
    },
    {
      "cell_type": "code",
      "source": [
        "validate_pin('5555')"
      ],
      "metadata": {
        "colab": {
          "base_uri": "https://localhost:8080/"
        },
        "id": "ZEMyeO2r1pOa",
        "outputId": "a80c5311-ad58-448b-9ad7-09905489d04d"
      },
      "execution_count": null,
      "outputs": [
        {
          "output_type": "execute_result",
          "data": {
            "text/plain": [
              "True"
            ]
          },
          "metadata": {},
          "execution_count": 5
        }
      ]
    },
    {
      "cell_type": "markdown",
      "source": [
        "Exo 3: Ecrivez une fonction pour convertir un nom en initiale. La fonction prend deux mots avec un espac entre eux.\n",
        "La sortie doit être composée de deux lettres majuscules séparées par un point\n",
        "ex: Sam Harris : S.H"
      ],
      "metadata": {
        "id": "eYLoItmSBkUn"
      }
    },
    {
      "cell_type": "code",
      "source": [
        "def abbrev_name(name):\n",
        "  return \".\".join(name[0].upper() for name in name.split())"
      ],
      "metadata": {
        "id": "hXHVYd3SCUup"
      },
      "execution_count": null,
      "outputs": []
    },
    {
      "cell_type": "code",
      "source": [
        "abbrev_name('Céline Julie')"
      ],
      "metadata": {
        "colab": {
          "base_uri": "https://localhost:8080/",
          "height": 35
        },
        "id": "HoX6SAqgCiNG",
        "outputId": "bf2aeb11-402e-4c41-cad2-3679bf98db53"
      },
      "execution_count": null,
      "outputs": [
        {
          "output_type": "execute_result",
          "data": {
            "text/plain": [
              "'C.J'"
            ],
            "application/vnd.google.colaboratory.intrinsic+json": {
              "type": "string"
            }
          },
          "metadata": {},
          "execution_count": 7
        }
      ]
    },
    {
      "cell_type": "markdown",
      "source": [
        "Exo 4: Le western Suburbs Croquet Club a deux catégaories de membres: Senior et Open. Pour être Senior : A>=55 et handicap<7\n",
        "Entrée: une liste de paire, chaque paire contient des infos pour un seul membre potentiel\n",
        "/\n",
        "Sortie : une liste de valeur de chaine indiquant si le membre doit être placé dans la catégorie Senior ou Open."
      ],
      "metadata": {
        "id": "WkU7_HWoKZUk"
      }
    },
    {
      "cell_type": "code",
      "source": [
        "def open_or_senior(data):\n",
        "  ans=[]\n",
        "  for (a, b)in data:\n",
        "    if a>=55 and b<7:\n",
        "      ans.append('Senior')\n",
        "    else:\n",
        "      ans.append(\"Open\")\n",
        "  return ans"
      ],
      "metadata": {
        "id": "9Xpwq7suLM3S"
      },
      "execution_count": null,
      "outputs": []
    },
    {
      "cell_type": "code",
      "source": [
        "data=[(60,3), (30,5), (70, 2)]\n",
        "open_or_senior(data)"
      ],
      "metadata": {
        "colab": {
          "base_uri": "https://localhost:8080/"
        },
        "id": "4h2VTgOeMH-_",
        "outputId": "a23d8de9-b3ee-470d-ed11-17647b976452"
      },
      "execution_count": null,
      "outputs": [
        {
          "output_type": "execute_result",
          "data": {
            "text/plain": [
              "['Senior', 'Open', 'Senior']"
            ]
          },
          "metadata": {},
          "execution_count": 15
        }
      ]
    },
    {
      "cell_type": "markdown",
      "source": [
        "Exo 5: Il y avait un test dans votre classe et vous l'avez réussi (Bravo). Mais vous voulez savoir si vous étiez meilleur par rapport à la moyenne de classe. On reçoit un tableau avec les résultats des test, et on calcule la moyenne et on compare au score\n",
        "Sortie : True si au dessus et False sinon"
      ],
      "metadata": {
        "id": "j9AZXc41OFiU"
      }
    },
    {
      "cell_type": "code",
      "source": [
        "def better_than_average (classpoints, your_points):\n",
        "  classpoints.append(your_points)\n",
        "  n=0\n",
        "  somme=0\n",
        "  for e in classpoints:\n",
        "    n+=1\n",
        "    somme=somme +e\n",
        "  if (somme/n)<your_points:\n",
        "    return True\n",
        "  else:\n",
        "    return False"
      ],
      "metadata": {
        "id": "7qBnbk55PU1D"
      },
      "execution_count": null,
      "outputs": []
    },
    {
      "cell_type": "code",
      "source": [
        "classpoints = [80, 75, 90, 95]\n",
        "your_points = 85\n",
        "better_than_average(classpoints, your_points)"
      ],
      "metadata": {
        "colab": {
          "base_uri": "https://localhost:8080/"
        },
        "id": "ts96BhS2Pw5A",
        "outputId": "7188d2a9-a4d1-4f0b-8b1c-f034a0b65f54"
      },
      "execution_count": null,
      "outputs": [
        {
          "output_type": "execute_result",
          "data": {
            "text/plain": [
              "False"
            ]
          },
          "metadata": {},
          "execution_count": 20
        }
      ]
    },
    {
      "cell_type": "markdown",
      "source": [
        "Exo 6: Vous vivez à Cartesia , une ville où toutes les routes sont tracées dans un quadrilatère parfait. Vous êtes arrivé 10 min plus tôt à un rdv et vous avez décidé d'aller vous balader. Une chaîne de lettres représente les directions à suivre (un paté de maison = 1 min)\n",
        "Créer une fonction qui renvoie True si la balade ==10min et permet de revenir au point de départ."
      ],
      "metadata": {
        "id": "zJ94_WF5QOyE"
      }
    },
    {
      "cell_type": "code",
      "source": [
        "\n",
        "def is_valid_walk(walk):\n",
        "  if len(walk)!=10:\n",
        "    return False\n",
        "  else:\n",
        "    x, y =(0,0)\n",
        "    for e in walk:\n",
        "      if e=='n':\n",
        "        y+= 1\n",
        "      elif e=='s':\n",
        "        y+=-1\n",
        "      elif e==\"w\":\n",
        "        y+=-1\n",
        "      elif e==\"e\":\n",
        "        y+=1\n",
        "      return (x,y)==(0,0)"
      ],
      "metadata": {
        "id": "J0TRS5ztQ1xT"
      },
      "execution_count": null,
      "outputs": []
    },
    {
      "cell_type": "code",
      "source": [
        "walk = ['n', 's', 'n', 's', 'n', 's', 'n', 's', 'n', 's']\n",
        "is_valid_walk(walk)"
      ],
      "metadata": {
        "colab": {
          "base_uri": "https://localhost:8080/"
        },
        "id": "wYkgkrn0SK4u",
        "outputId": "17708416-ae7e-497f-e0b0-7014cf99c809"
      },
      "execution_count": null,
      "outputs": [
        {
          "output_type": "execute_result",
          "data": {
            "text/plain": [
              "False"
            ]
          },
          "metadata": {},
          "execution_count": 25
        }
      ]
    },
    {
      "cell_type": "markdown",
      "source": [
        "Exo 7: Ecrivez la fonction persistance qui prend un paramètre un nombre positif et renvoie sa persistance multiplicative (nombre de fois qu'on doit x les chiffres du nombre pour arriver à un seul chiffre)"
      ],
      "metadata": {
        "id": "kj-MQprJSVx1"
      }
    },
    {
      "cell_type": "code",
      "source": [
        "def persistance(n):\n",
        "  count=0\n",
        "  while (len(str(n))>1):\n",
        "    t=1\n",
        "    chiffres=[int(i)for i in str(n)]\n",
        "    for j in chiffres:\n",
        "      t=t*int(j)\n",
        "      count+=1\n",
        "      n=str(t)\n",
        "      return count"
      ],
      "metadata": {
        "id": "cQc1ZrdHSnmS"
      },
      "execution_count": null,
      "outputs": []
    },
    {
      "cell_type": "code",
      "source": [
        "persistance(56)"
      ],
      "metadata": {
        "colab": {
          "base_uri": "https://localhost:8080/"
        },
        "id": "IFQwEeVGTArH",
        "outputId": "dc2e1f8a-8356-4d0b-eab9-019473979fe8"
      },
      "execution_count": null,
      "outputs": [
        {
          "output_type": "execute_result",
          "data": {
            "text/plain": [
              "1"
            ]
          },
          "metadata": {},
          "execution_count": 29
        }
      ]
    },
    {
      "cell_type": "markdown",
      "source": [
        "Exo 8: Etant donnée un tableau d'entiers, trouvez celui qui apparait un nombre impair de fois\n",
        "Il n'y aura qu'un seul entier qui apparaitra un nombre impair de fois."
      ],
      "metadata": {
        "id": "1KVmuq47-vc5"
      }
    },
    {
      "cell_type": "code",
      "source": [
        "def find_it(seq):\n",
        "  for i in seq:\n",
        "    count=0\n",
        "    for j in seq:\n",
        "      if i==j:\n",
        "        count +=1\n",
        "        if (count % 2 !=0):\n",
        "          return i"
      ],
      "metadata": {
        "id": "QQfUm_XD--Ge"
      },
      "execution_count": null,
      "outputs": []
    },
    {
      "cell_type": "code",
      "source": [
        "seq = [1, 2, 2, 1, 3, 3, 4]\n",
        "find_it(seq)"
      ],
      "metadata": {
        "colab": {
          "base_uri": "https://localhost:8080/"
        },
        "id": "f0VHrrCT_Rci",
        "outputId": "45e47260-dce6-4f91-caaf-89d7c4e9db74"
      },
      "execution_count": null,
      "outputs": [
        {
          "output_type": "execute_result",
          "data": {
            "text/plain": [
              "1"
            ]
          },
          "metadata": {},
          "execution_count": 3
        }
      ]
    },
    {
      "cell_type": "markdown",
      "source": [
        "Exo 9: Le carré parfait\n",
        "étant donné un nombre entier, déterminer si c'est un carré parfait\n",
        "True = oui\n",
        "False si non\n"
      ],
      "metadata": {
        "id": "MYkQUmpa_zvx"
      }
    },
    {
      "cell_type": "code",
      "source": [
        "def is_square(n):\n",
        "  if n<0:\n",
        "    return False\n",
        "  x=int(n**0.5)\n",
        "  return (x **2==n)"
      ],
      "metadata": {
        "id": "EQnGuzrf_8zi"
      },
      "execution_count": null,
      "outputs": []
    },
    {
      "cell_type": "code",
      "source": [
        "is_square (59)"
      ],
      "metadata": {
        "colab": {
          "base_uri": "https://localhost:8080/"
        },
        "id": "Ubi1gJK3ANY2",
        "outputId": "bfe70c18-238a-4e54-a3c9-ed74e7bf231b"
      },
      "execution_count": null,
      "outputs": [
        {
          "output_type": "execute_result",
          "data": {
            "text/plain": [
              "False"
            ]
          },
          "metadata": {},
          "execution_count": 7
        }
      ]
    },
    {
      "cell_type": "markdown",
      "source": [
        "Exo 10: Suite de Fibonnaci à l'aide d'une boucle for stocker les 100 premiers termes de la suite dans la variable u"
      ],
      "metadata": {
        "id": "LzcgDBuqAVp3"
      }
    },
    {
      "cell_type": "code",
      "source": [
        "u=[0,1]\n",
        "for e in range(98):\n",
        "  u.append(u[-1]+ u[-2])\n",
        "  print(len(u))"
      ],
      "metadata": {
        "colab": {
          "base_uri": "https://localhost:8080/"
        },
        "id": "nxhb4MQuAntt",
        "outputId": "9595323b-ee16-4ea8-91a7-cbd6e3db2273"
      },
      "execution_count": null,
      "outputs": [
        {
          "output_type": "stream",
          "name": "stdout",
          "text": [
            "3\n",
            "4\n",
            "5\n",
            "6\n",
            "7\n",
            "8\n",
            "9\n",
            "10\n",
            "11\n",
            "12\n",
            "13\n",
            "14\n",
            "15\n",
            "16\n",
            "17\n",
            "18\n",
            "19\n",
            "20\n",
            "21\n",
            "22\n",
            "23\n",
            "24\n",
            "25\n",
            "26\n",
            "27\n",
            "28\n",
            "29\n",
            "30\n",
            "31\n",
            "32\n",
            "33\n",
            "34\n",
            "35\n",
            "36\n",
            "37\n",
            "38\n",
            "39\n",
            "40\n",
            "41\n",
            "42\n",
            "43\n",
            "44\n",
            "45\n",
            "46\n",
            "47\n",
            "48\n",
            "49\n",
            "50\n",
            "51\n",
            "52\n",
            "53\n",
            "54\n",
            "55\n",
            "56\n",
            "57\n",
            "58\n",
            "59\n",
            "60\n",
            "61\n",
            "62\n",
            "63\n",
            "64\n",
            "65\n",
            "66\n",
            "67\n",
            "68\n",
            "69\n",
            "70\n",
            "71\n",
            "72\n",
            "73\n",
            "74\n",
            "75\n",
            "76\n",
            "77\n",
            "78\n",
            "79\n",
            "80\n",
            "81\n",
            "82\n",
            "83\n",
            "84\n",
            "85\n",
            "86\n",
            "87\n",
            "88\n",
            "89\n",
            "90\n",
            "91\n",
            "92\n",
            "93\n",
            "94\n",
            "95\n",
            "96\n",
            "97\n",
            "98\n",
            "99\n",
            "100\n"
          ]
        }
      ]
    },
    {
      "cell_type": "markdown",
      "source": [
        "Exo 11: Compléter le fonction de somme au carré de sorte qu'elle élève au carré chaque nombre qui lui est transmis, puis additionne les résultats ensemble"
      ],
      "metadata": {
        "id": "XtY1pvkUA7rs"
      }
    },
    {
      "cell_type": "code",
      "source": [
        "from re import I\n",
        "def square_sum(n):\n",
        "  s=0\n",
        "  for i in n:\n",
        "    s+=i*i\n",
        "    return s"
      ],
      "metadata": {
        "id": "btlF5lXNBcJl"
      },
      "execution_count": null,
      "outputs": []
    },
    {
      "cell_type": "code",
      "source": [
        "square_sum([10])"
      ],
      "metadata": {
        "colab": {
          "base_uri": "https://localhost:8080/"
        },
        "id": "xKG-UGVjBo-_",
        "outputId": "c0e31d42-20df-4e6b-d669-602d67db5045"
      },
      "execution_count": null,
      "outputs": [
        {
          "output_type": "execute_result",
          "data": {
            "text/plain": [
              "100"
            ]
          },
          "metadata": {},
          "execution_count": 14
        }
      ]
    },
    {
      "cell_type": "markdown",
      "source": [
        "Exo 12: Cette fonction doit tester si [factor] est un factor de base\n",
        "True= vrai\n",
        "sinon False"
      ],
      "metadata": {
        "id": "oJ-tvQxrB2wX"
      }
    },
    {
      "cell_type": "code",
      "source": [
        "def check_for_factor (base, factor):\n",
        "  if base % factor==0:\n",
        "    return True\n",
        "  return False"
      ],
      "metadata": {
        "id": "_I8Iu0EQB9pw"
      },
      "execution_count": null,
      "outputs": []
    },
    {
      "cell_type": "code",
      "source": [
        "check_for_factor(34,6)"
      ],
      "metadata": {
        "colab": {
          "base_uri": "https://localhost:8080/"
        },
        "id": "heQH1eE5CIAt",
        "outputId": "26fec585-ab69-4f6b-e3c7-145d450e8886"
      },
      "execution_count": null,
      "outputs": [
        {
          "output_type": "execute_result",
          "data": {
            "text/plain": [
              "False"
            ]
          },
          "metadata": {},
          "execution_count": 16
        }
      ]
    },
    {
      "cell_type": "markdown",
      "source": [
        "Exo 13: What if we need the length of the words separated by a space to be added at the end of that same word and have it returned as an array?\n",
        "\n",
        "Example(Input --> Output)\n",
        "\n",
        "\"apple ban\" --> [\"apple 5\", \"ban 3\"]\n",
        "\"you will win\" -->[\"you 3\", \"will 4\", \"win 3\"]\n",
        "Your task is to write a function that takes a String and returns an Array/list with the length of each word added to each element .\n",
        "\n",
        "Note: String will have at least one element; words will always be separated by a space."
      ],
      "metadata": {
        "id": "EVnTx6aM5Ohw"
      }
    },
    {
      "cell_type": "code",
      "source": [
        "def add_length(str_):\n",
        "    words = str_.split(\" \")\n",
        "    result = []\n",
        "    count = 0\n",
        "\n",
        "    for word in words:\n",
        "        length = len(word)\n",
        "        modified_word = f\"{word} {length}\"\n",
        "        result.append(modified_word)\n",
        "        count += 1\n",
        "\n",
        "    return result"
      ],
      "metadata": {
        "id": "qEGzN_qc5PqG"
      },
      "execution_count": null,
      "outputs": []
    },
    {
      "cell_type": "markdown",
      "source": [
        "Exo 14: Given a string, you have to return a string in which each character (case-sensitive) is repeated once.\n",
        "\n",
        "Examples (Input -> Output):\n",
        "* \"String\"      -> \"SSttrriinngg\"\n",
        "* \"Hello World\" -> \"HHeelllloo  WWoorrlldd\"\n",
        "* \"1234!_ \"     -> \"11223344!!__  \""
      ],
      "metadata": {
        "id": "ALITQTbsA7sG"
      }
    },
    {
      "cell_type": "code",
      "source": [
        "def double_char(s):\n",
        "    return \"\".join([i*2 for i in s])"
      ],
      "metadata": {
        "id": "Adpn3y3-A-Xw"
      },
      "execution_count": null,
      "outputs": []
    },
    {
      "cell_type": "markdown",
      "source": [
        "exo 15 : You will be given an array a and a value x. All you need to do is check whether the provided array contains the value.\n",
        "\n",
        "Array can contain numbers or strings. X can be either.\n",
        "\n",
        "Return true if the array contains the value, false if not."
      ],
      "metadata": {
        "id": "KaqFMxFMCLva"
      }
    },
    {
      "cell_type": "code",
      "source": [
        "def check(seq, elem):\n",
        "    if elem in seq :\n",
        "        return True\n",
        "    else :\n",
        "        return False"
      ],
      "metadata": {
        "id": "0abnR5RGCOCm"
      },
      "execution_count": null,
      "outputs": []
    },
    {
      "cell_type": "markdown",
      "source": [
        "Exo 16 : Bob needs a fast way to calculate the volume of a cuboid with three values: the length, width and height of the cuboid. Write a function to help Bob with this calculation."
      ],
      "metadata": {
        "id": "3t-kd9rpDitP"
      }
    },
    {
      "cell_type": "code",
      "source": [
        "def get_volume_of_cuboid(length, width, height):\n",
        "    return length * width * height"
      ],
      "metadata": {
        "id": "Jeh_-y-QDk8P"
      },
      "execution_count": null,
      "outputs": []
    },
    {
      "cell_type": "markdown",
      "source": [
        "Exo 17: Your goal is to return multiplication table for number that is always an integer from 1 to 10.\n",
        "\n",
        "For example, a multiplication table (string) for number == 5 looks like below:\n",
        "\n",
        "1 * 5 = 5\n",
        "2 * 5 = 10\n",
        "3 * 5 = 15\n",
        "4 * 5 = 20\n",
        "5 * 5 = 25\n",
        "6 * 5 = 30\n",
        "7 * 5 = 35\n",
        "8 * 5 = 40\n",
        "9 * 5 = 45\n",
        "10 * 5 = 50"
      ],
      "metadata": {
        "id": "GlULklDODnz9"
      }
    },
    {
      "cell_type": "code",
      "source": [
        "def multi_table(number):\n",
        "    result = \"\"\n",
        "    for i in range(1,11):\n",
        "        result += (str(i) + \" * \" + str(number) + \" = \" + str(i * number ) + \"\\n\")\n",
        "    return result.strip()"
      ],
      "metadata": {
        "id": "LeRBD6mFJ9yn"
      },
      "execution_count": null,
      "outputs": []
    },
    {
      "cell_type": "markdown",
      "source": [
        "Exo 18 : Create a function that accepts a list/array and a number n, and returns a list/array of the first n elements from the list/array."
      ],
      "metadata": {
        "id": "nhvG_kcPQkTA"
      }
    },
    {
      "cell_type": "code",
      "source": [
        "def take(arr,n):\n",
        "    return arr[:n]"
      ],
      "metadata": {
        "id": "0UajvtyFQiyX"
      },
      "execution_count": null,
      "outputs": []
    },
    {
      "cell_type": "markdown",
      "source": [
        "Exo 19 : Very simple, given an integer or a floating-point number, find its opposite."
      ],
      "metadata": {
        "id": "ikTRz_WRVvtX"
      }
    },
    {
      "cell_type": "code",
      "source": [
        "def opposite(number):\n",
        "    return - number"
      ],
      "metadata": {
        "id": "ReawKgq4Vxwx"
      },
      "execution_count": null,
      "outputs": []
    },
    {
      "cell_type": "markdown",
      "source": [
        "Exo 20 : Create a function that accepts a string and a single character, and returns an integer of the count of occurrences the 2nd argument is found in the first one.\n",
        "\n",
        "If no occurrences can be found, a count of 0 should be returned.\n",
        "\n",
        "(\"Hello\", \"o\")  ==>  1\n",
        "(\"Hello\", \"l\")  ==>  2\n",
        "(\"\", \"z\")       ==>  0"
      ],
      "metadata": {
        "id": "gOOBH3ayWJUW"
      }
    },
    {
      "cell_type": "code",
      "source": [
        "def str_count(strng, letter):\n",
        "    count=0\n",
        "    for i in range (len(strng)):\n",
        "        if (strng[i]==letter):\n",
        "            count= count + 1\n",
        "    return count"
      ],
      "metadata": {
        "id": "8t0ETHiUWLbV"
      },
      "execution_count": null,
      "outputs": []
    },
    {
      "cell_type": "markdown",
      "source": [
        "Exo 21 : Inspired by the development team at Vooza, write the function that\n",
        "\n",
        "accepts the name of a programmer, and\n",
        "returns the number of lightsabers owned by that person.\n",
        "The only person who owns lightsabers is Zach, by the way. He owns 18, which is an awesome number of lightsabers. Anyone else owns 0.\n",
        "\n",
        "Note: your function should have a default parameter.\n",
        "\n",
        "For example(Input --> Output):\n",
        "\n",
        "\"anyone else\" --> 0\n",
        "\"Zach\" --> 18"
      ],
      "metadata": {
        "id": "hezGBNdFrZJG"
      }
    },
    {
      "cell_type": "code",
      "source": [
        "def how_many_light_sabers_do_you_own(name=None):\n",
        "    if name and name == 'Zach':\n",
        "        return 18\n",
        "    else:\n",
        "        return 0"
      ],
      "metadata": {
        "id": "JgeiSCp8rbCj"
      },
      "execution_count": null,
      "outputs": []
    },
    {
      "cell_type": "markdown",
      "source": [
        "Exo 22 : A hero is on his way to the castle to complete his mission. However, he's been told that the castle is surrounded with a couple of powerful dragons! each dragon takes 2 bullets to be defeated, our hero has no idea how many bullets he should carry.. Assuming he's gonna grab a specific given number of bullets and move forward to fight another specific given number of dragons, will he survive?\n",
        "\n",
        "Return true if yes, false otherwise :)"
      ],
      "metadata": {
        "id": "QVw-ZmK2rg96"
      }
    },
    {
      "cell_type": "code",
      "source": [
        "def hero(bullets, dragons):\n",
        "    print(bullets, dragons)\n",
        "    dragonsdown = dragons*2\n",
        "    if bullets>=dragonsdown:\n",
        "        return True\n",
        "    return False"
      ],
      "metadata": {
        "id": "QMVnD-hYR1cM"
      },
      "execution_count": null,
      "outputs": []
    },
    {
      "cell_type": "markdown",
      "source": [
        "Exo 23: Deoxyribonucleic acid, DNA is the primary information storage molecule in biological systems. It is composed of four nucleic acid bases Guanine ('G'), Cytosine ('C'), Adenine ('A'), and Thymine ('T').\n",
        "\n",
        "Ribonucleic acid, RNA, is the primary messenger molecule in cells. RNA differs slightly from DNA its chemical structure and contains no Thymine. In RNA Thymine is replaced by another nucleic acid Uracil ('U').\n",
        "\n",
        "Create a function which translates a given DNA string into RNA.\n",
        "\n",
        "For example:\n",
        "\n",
        "\"GCAT\"  =>  \"GCAU\"\n",
        "The input string can be of arbitrary length - in particular, it may be empty. All input is guaranteed to be valid, i.e. each input string will only ever consist of 'G', 'C', 'A' and/or 'T'.\n",
        "\n"
      ],
      "metadata": {
        "id": "T0Lro1zUSSu4"
      }
    },
    {
      "cell_type": "code",
      "source": [
        "def dna_to_rna(dna):\n",
        "    rna=''\n",
        "    for i in dna:\n",
        "        if i=='A':\n",
        "            rna+='A'\n",
        "        elif i=='G':\n",
        "            rna+='G'\n",
        "        elif i=='C':\n",
        "            rna+='C'\n",
        "        elif i=='T':\n",
        "            rna+='U'\n",
        "    return rna"
      ],
      "metadata": {
        "id": "9mPr-dK4d9ZC"
      },
      "execution_count": null,
      "outputs": []
    },
    {
      "cell_type": "markdown",
      "source": [
        "Exo 24 : Make a function that returns the value multiplied by 50 and increased by 6. If the value entered is a string it should return \"Error\"."
      ],
      "metadata": {
        "id": "1qULRFvieMmr"
      }
    },
    {
      "cell_type": "code",
      "source": [
        "def problem(a):\n",
        "    if isinstance(a, str):\n",
        "        return \"Error\"\n",
        "    else:\n",
        "        return a * 50 + 6"
      ],
      "metadata": {
        "id": "3Oz7BAGieO7z"
      },
      "execution_count": null,
      "outputs": []
    },
    {
      "cell_type": "markdown",
      "source": [
        "Exo 25 : Your classmates asked you to copy some paperwork for them. You know that there are 'n' classmates and the paperwork has 'm' pages.\n",
        "\n",
        "Your task is to calculate how many blank pages do you need. If n < 0 or m < 0 return 0.\n",
        "\n",
        "Example:\n",
        "n= 5, m=5: 25\n",
        "n=-5, m=5:  0"
      ],
      "metadata": {
        "id": "FZBec19pFs-s"
      }
    },
    {
      "cell_type": "code",
      "source": [
        "def paperwork(n, m):\n",
        "    if n < 0 or m < 0:\n",
        "        return 0\n",
        "    else :\n",
        "        return n * m"
      ],
      "metadata": {
        "id": "6ab5oP1pFsHO"
      },
      "execution_count": null,
      "outputs": []
    },
    {
      "cell_type": "markdown",
      "source": [
        "Exo 26: You will be given a list of strings. You must sort it alphabetically (case-sensitive, and based on the ASCII values of the chars) and then return the first value.\n",
        "\n",
        "The returned value must be a string, and have \"***\" between each of its letters.\n",
        "\n",
        "You should not remove or add elements from/to the array."
      ],
      "metadata": {
        "id": "ns17vJNWKkRe"
      }
    },
    {
      "cell_type": "code",
      "source": [
        "def two_sort(array):\n",
        "    return '***'.join([i for i in sorted(array)[0]])"
      ],
      "metadata": {
        "id": "B4IxYJelKjYM"
      },
      "execution_count": null,
      "outputs": []
    },
    {
      "cell_type": "markdown",
      "source": [
        "Exo 27 : Define a method hello that returns \"Hello, Name!\" to a given name, or says Hello, World! if name is not given (or passed as an empty String).\n",
        "\n",
        "Assuming that name is a String and it checks for user typos to return a name with a first capital letter (Xxxx).\n",
        "\n",
        "Examples:\n",
        "\n",
        "* With `name` = \"john\"  => return \"Hello, John!\"\n",
        "* With `name` = \"aliCE\" => return \"Hello, Alice!\"\n",
        "* With `name` not given\n",
        "  or `name` = \"\"        => return \"Hello, World!\""
      ],
      "metadata": {
        "id": "9_9Yau3dIgDT"
      }
    },
    {
      "cell_type": "code",
      "source": [
        "def hello(name=''):\n",
        "    print(name)\n",
        "    name = name.capitalize()\n",
        "    hello = 'Hello, '\n",
        "    Ptexcla = '!'\n",
        "    World = 'World'\n",
        "    if len(name) == 0:\n",
        "        return hello + World + Ptexcla\n",
        "    return hello + name + Ptexcla"
      ],
      "metadata": {
        "id": "3RkeQIQPImLh"
      },
      "execution_count": null,
      "outputs": []
    },
    {
      "cell_type": "markdown",
      "source": [
        "Exo 28: Task\n",
        "Given three integers a ,b ,c, return the largest number obtained after inserting the following operators and brackets: +, *, ()\n",
        "In other words , try every combination of a,b,c with [*+()] , and return the Maximum Obtained (Read the notes for more detail about it)\n",
        "Example\n",
        "With the numbers are 1, 2 and 3 , here are some ways of placing signs and brackets:\n",
        "\n",
        "1 * (2 + 3) = 5\n",
        "1 * 2 * 3 = 6\n",
        "1 + 2 * 3 = 7\n",
        "(1 + 2) * 3 = 9\n",
        "So the maximum value that you can obtain is 9.\n",
        "\n",
        "Notes\n",
        "The numbers are always positive.\n",
        "The numbers are in the range (1  ≤  a, b, c  ≤  10).\n",
        "You can use the same operation more than once.\n",
        "It's not necessary to place all the signs and brackets.\n",
        "Repetition in numbers may occur .\n",
        "You cannot swap the operands. For instance, in the given example you cannot get expression (1 + 3) * 2 = 8."
      ],
      "metadata": {
        "id": "IHWZyyFdIpk3"
      }
    },
    {
      "cell_type": "code",
      "source": [
        "def expression_matter(a, b, c):\n",
        "    print(a,b,c)\n",
        "    result=[a*(b+c), a*b*c, a+b*c, (a+b)*c, a+b+c]\n",
        "    return max(result)"
      ],
      "metadata": {
        "id": "xMs1FrcBI3cX"
      },
      "execution_count": null,
      "outputs": []
    },
    {
      "cell_type": "markdown",
      "source": [
        "Exo 29 : Complete the function so that it finds the average of the three scores passed to it and returns the letter value associated with that grade.\n",
        "\n",
        "Numerical Score\tLetter Grade\n",
        "90 <= score <= 100\t'A'\n",
        "80 <= score < 90\t'B'\n",
        "70 <= score < 80\t'C'\n",
        "60 <= score < 70\t'D'\n",
        "0 <= score < 60\t'F'"
      ],
      "metadata": {
        "id": "Je_ZSRh38csG"
      }
    },
    {
      "cell_type": "code",
      "source": [
        "def get_grade(s1, s2, s3):\n",
        "    score=(s1+ s2+ s3)//3\n",
        "    if 90 <= score <= 100:\n",
        "        return 'A'\n",
        "    if 80 <= score < 90:\n",
        "        return 'B'\n",
        "    if 70 <= score < 80:\n",
        "        return 'C'\n",
        "    if 60 <= score < 70:\n",
        "        return 'D'\n",
        "    if 0 <= score < 60:\n",
        "        return \"F\""
      ],
      "metadata": {
        "id": "KzN5LUrnLfA5"
      },
      "execution_count": null,
      "outputs": []
    },
    {
      "cell_type": "markdown",
      "source": [
        "Exo 30: Given a string of digits, you should replace any digit below 5 with '0' and any digit 5 and above with '1'. Return the resulting string.\n",
        "\n",
        "Note: input will never be an empty string"
      ],
      "metadata": {
        "id": "SVRaOxaBLpul"
      }
    },
    {
      "cell_type": "code",
      "source": [
        "def fake_bin(x):\n",
        "    result=''\n",
        "    for i in x:\n",
        "        if int(i) < 5:\n",
        "            result+= '0'\n",
        "        else:\n",
        "            result += '1'\n",
        "    return result"
      ],
      "metadata": {
        "id": "1871gvS2NAW3"
      },
      "execution_count": null,
      "outputs": []
    },
    {
      "cell_type": "markdown",
      "source": [
        "Exo 31 : Fix the function\n",
        "I created this function to add five to any number that was passed in to it and return the new value. It doesn't throw any errors but it returns the wrong number.\n",
        "\n",
        "Can you help me fix the function?"
      ],
      "metadata": {
        "id": "jYobaYKcbqdO"
      }
    },
    {
      "cell_type": "code",
      "source": [
        "def add_five(num):\n",
        "    return num + 5"
      ],
      "metadata": {
        "id": "a09jE0x0fbnC"
      },
      "execution_count": null,
      "outputs": []
    },
    {
      "cell_type": "code",
      "source": [
        "Exo 32: Write function bmi that calculates body mass index (bmi = weight / height2).\n",
        "\n",
        "if bmi <= 18.5 return \"Underweight\"\n",
        "\n",
        "if bmi <= 25.0 return \"Normal\"\n",
        "\n",
        "if bmi <= 30.0 return \"Overweight\"\n",
        "\n",
        "if bmi > 30 return \"Obese\""
      ],
      "metadata": {
        "id": "r0Xf88jndF-Y"
      },
      "execution_count": null,
      "outputs": []
    },
    {
      "cell_type": "code",
      "source": [
        "def bmi(weight, height):\n",
        "    bmi=weight/(height**2)\n",
        "    if bmi<= 18.5 :\n",
        "        return \"Underweight\"\n",
        "    elif  bmi <= 25.0 :\n",
        "        return \"Normal\"\n",
        "    elif  bmi <= 30.0 :\n",
        "        return \"Overweight\"\n",
        "    else:\n",
        "        return \"Obese\""
      ],
      "metadata": {
        "id": "a_mP6qKrdIvp"
      },
      "execution_count": null,
      "outputs": []
    }
  ]
}