{
  "nbformat": 4,
  "nbformat_minor": 0,
  "metadata": {
    "colab": {
      "provenance": []
    },
    "kernelspec": {
      "name": "python3",
      "display_name": "Python 3"
    },
    "language_info": {
      "name": "python"
    }
  },
  "cells": [
    {
      "cell_type": "markdown",
      "source": [
        "### Python sans utiliser de méthodes.. quelques exemples d'exercices. "
      ],
      "metadata": {
        "id": "omn2eskCDbo5"
      }
    },
    {
      "cell_type": "markdown",
      "source": [
        "Exo 1-\n",
        "Créer un programme qui filtre une liste de chaines et renvoie une liste contenant le nom de vos amis.\n",
        "Si un nom contient 4 lettres = nom ami\n",
        "\n",
        "---\n",
        "\n"
      ],
      "metadata": {
        "id": "8nOedzqjBogB"
      }
    },
    {
      "cell_type": "code",
      "execution_count": 3,
      "metadata": {
        "id": "TWVGXPqivJ1m"
      },
      "outputs": [],
      "source": [
        "def friend(x):\n",
        "  ans=[]\n",
        "  for e in x: \n",
        "    if len(e)==4:\n",
        "      ans.append(e)\n",
        "  return ans "
      ]
    },
    {
      "cell_type": "markdown",
      "source": [
        "Vérification de la fonction "
      ],
      "metadata": {
        "id": "ljtCWcBkCx2F"
      }
    },
    {
      "cell_type": "code",
      "source": [
        "x=[\"Arthur\", \"Josephine\", 'Leo', 'Theo', \"Amina\", \"Paul\", \"Jerome\", \"Sofi\"]\n",
        "friend(x)"
      ],
      "metadata": {
        "colab": {
          "base_uri": "https://localhost:8080/"
        },
        "id": "0kS6z0oCCRT1",
        "outputId": "8febc0ab-7927-435d-e097-5c59badaf1f4"
      },
      "execution_count": 4,
      "outputs": [
        {
          "output_type": "execute_result",
          "data": {
            "text/plain": [
              "['Theo', 'Paul', 'Sofi']"
            ]
          },
          "metadata": {},
          "execution_count": 4
        }
      ]
    },
    {
      "cell_type": "markdown",
      "source": [
        "Exo2: Les guichets automatiques acceptent les codes PIN à 4 ou 6 chiffres et les codes PIN ne peuvent contenir que 4 chiffres exactement ou 6 chiffres exactement. \n",
        "Si la fonction reçoit une chaine valide return True, sinon return False."
      ],
      "metadata": {
        "id": "1WSrimPHDJEm"
      }
    },
    {
      "cell_type": "code",
      "source": [
        "def validate_pin(pin):\n",
        "  for c in pin: \n",
        "    if not c in'0123456789':\n",
        "      return False \n",
        "    if len(pin)==4 or len(pin)==6:\n",
        "      return True \n",
        "    else:\n",
        "      return False "
      ],
      "metadata": {
        "id": "EcsB4Dn71TIe"
      },
      "execution_count": 1,
      "outputs": []
    },
    {
      "cell_type": "code",
      "source": [
        "validate_pin('5555')"
      ],
      "metadata": {
        "colab": {
          "base_uri": "https://localhost:8080/"
        },
        "id": "ZEMyeO2r1pOa",
        "outputId": "a80c5311-ad58-448b-9ad7-09905489d04d"
      },
      "execution_count": 5,
      "outputs": [
        {
          "output_type": "execute_result",
          "data": {
            "text/plain": [
              "True"
            ]
          },
          "metadata": {},
          "execution_count": 5
        }
      ]
    },
    {
      "cell_type": "markdown",
      "source": [
        "Exo 3: Ecrivez une fonction pour convertir un nom en initiale. La fonction prend deux mots avec un espac entre eux.\n",
        "La sortie doit être composée de deux lettres majuscules séparées par un point \n",
        "ex: Sam Harris : S.H"
      ],
      "metadata": {
        "id": "eYLoItmSBkUn"
      }
    },
    {
      "cell_type": "code",
      "source": [
        "def abbrev_name(name):\n",
        "  return \".\".join(name[0].upper() for name in name.split())"
      ],
      "metadata": {
        "id": "hXHVYd3SCUup"
      },
      "execution_count": 6,
      "outputs": []
    },
    {
      "cell_type": "code",
      "source": [
        "abbrev_name('Céline Julie')"
      ],
      "metadata": {
        "colab": {
          "base_uri": "https://localhost:8080/",
          "height": 35
        },
        "id": "HoX6SAqgCiNG",
        "outputId": "bf2aeb11-402e-4c41-cad2-3679bf98db53"
      },
      "execution_count": 7,
      "outputs": [
        {
          "output_type": "execute_result",
          "data": {
            "text/plain": [
              "'C.J'"
            ],
            "application/vnd.google.colaboratory.intrinsic+json": {
              "type": "string"
            }
          },
          "metadata": {},
          "execution_count": 7
        }
      ]
    },
    {
      "cell_type": "markdown",
      "source": [
        "Exo 4: Le western Suburbs Croquet Club a deux catégaories de membres: Senior et Open. Pour être Senior : A>=55 et handicap<7\n",
        "Entrée: une liste de paire, chaque paire contient des infos pour un seul membre potentiel \n",
        "/\n",
        "Sortie : une liste de valeur de chaine indiquant si le membre doit être placé dans la catégorie Senior ou Open. "
      ],
      "metadata": {
        "id": "WkU7_HWoKZUk"
      }
    },
    {
      "cell_type": "code",
      "source": [
        "def open_or_senior(data):\n",
        "  ans=[]\n",
        "  for (a, b)in data: \n",
        "    if a>=55 and b<7:\n",
        "      ans.append('Senior')\n",
        "    else:\n",
        "      ans.append(\"Open\")\n",
        "  return ans "
      ],
      "metadata": {
        "id": "9Xpwq7suLM3S"
      },
      "execution_count": 17,
      "outputs": []
    },
    {
      "cell_type": "code",
      "source": [
        "data=[(60,3), (30,5), (70, 2)]\n",
        "open_or_senior(data)"
      ],
      "metadata": {
        "colab": {
          "base_uri": "https://localhost:8080/"
        },
        "id": "4h2VTgOeMH-_",
        "outputId": "a23d8de9-b3ee-470d-ed11-17647b976452"
      },
      "execution_count": 15,
      "outputs": [
        {
          "output_type": "execute_result",
          "data": {
            "text/plain": [
              "['Senior', 'Open', 'Senior']"
            ]
          },
          "metadata": {},
          "execution_count": 15
        }
      ]
    },
    {
      "cell_type": "markdown",
      "source": [
        "Exo 5: Il y avait un test dans votre classe et vous l'avez réussi (Bravo). Mais vous voulez savoir si vous étiez meilleur par rapport à la moyenne de classe. On reçoit un tableau avec les résultats des test, et on calcule la moyenne et on compare au score \n",
        "Sortie : True si au dessus et False sinon "
      ],
      "metadata": {
        "id": "j9AZXc41OFiU"
      }
    },
    {
      "cell_type": "code",
      "source": [
        "def better_than_average (classpoints, your_points): \n",
        "  classpoints.append(your_points)\n",
        "  n=0\n",
        "  somme=0\n",
        "  for e in classpoints: \n",
        "    n+=1\n",
        "    somme=somme +e \n",
        "  if (somme/n)<your_points:\n",
        "    return True \n",
        "  else: \n",
        "    return False "
      ],
      "metadata": {
        "id": "7qBnbk55PU1D"
      },
      "execution_count": 17,
      "outputs": []
    },
    {
      "cell_type": "code",
      "source": [
        "classpoints = [80, 75, 90, 95]\n",
        "your_points = 85\n",
        "better_than_average(classpoints, your_points)"
      ],
      "metadata": {
        "colab": {
          "base_uri": "https://localhost:8080/"
        },
        "id": "ts96BhS2Pw5A",
        "outputId": "7188d2a9-a4d1-4f0b-8b1c-f034a0b65f54"
      },
      "execution_count": 20,
      "outputs": [
        {
          "output_type": "execute_result",
          "data": {
            "text/plain": [
              "False"
            ]
          },
          "metadata": {},
          "execution_count": 20
        }
      ]
    },
    {
      "cell_type": "markdown",
      "source": [
        "Exo 6: Vous vivez à Cartesia , une ville où toutes les routes sont tracées dans un quadrilatère parfait. Vous êtes arrivé 10 min plus tôt à un rdv et vous avez décidé d'aller vous balader. Une chaîne de lettres représente les directions à suivre (un paté de maison = 1 min)\n",
        "Créer une fonction qui renvoie True si la balade ==10min et permet de revenir au point de départ. "
      ],
      "metadata": {
        "id": "zJ94_WF5QOyE"
      }
    },
    {
      "cell_type": "code",
      "source": [
        "\n",
        "def is_valid_walk(walk): \n",
        "  if len(walk)!=10:\n",
        "    return False \n",
        "  else: \n",
        "    x, y =(0,0)\n",
        "    for e in walk: \n",
        "      if e=='n':\n",
        "        y+= 1 \n",
        "      elif e=='s':\n",
        "        y+=-1\n",
        "      elif e==\"w\":\n",
        "        y+=-1\n",
        "      elif e==\"e\":\n",
        "        y+=1\n",
        "      return (x,y)==(0,0)"
      ],
      "metadata": {
        "id": "J0TRS5ztQ1xT"
      },
      "execution_count": 24,
      "outputs": []
    },
    {
      "cell_type": "code",
      "source": [
        "walk = ['n', 's', 'n', 's', 'n', 's', 'n', 's', 'n', 's']\n",
        "is_valid_walk(walk)"
      ],
      "metadata": {
        "colab": {
          "base_uri": "https://localhost:8080/"
        },
        "id": "wYkgkrn0SK4u",
        "outputId": "17708416-ae7e-497f-e0b0-7014cf99c809"
      },
      "execution_count": 25,
      "outputs": [
        {
          "output_type": "execute_result",
          "data": {
            "text/plain": [
              "False"
            ]
          },
          "metadata": {},
          "execution_count": 25
        }
      ]
    },
    {
      "cell_type": "markdown",
      "source": [
        "Exo 7: Ecrivez la fonction persistance qui prend un paramètre un nombre positif et renvoie sa persistance multiplicative (nombre de fois qu'on doit x les chiffres du nombre pour arriver à un seul chiffre)"
      ],
      "metadata": {
        "id": "kj-MQprJSVx1"
      }
    },
    {
      "cell_type": "code",
      "source": [
        "def persistance(n):\n",
        "  count=0\n",
        "  while (len(str(n))>1):\n",
        "    t=1\n",
        "    chiffres=[int(i)for i in str(n)]\n",
        "    for j in chiffres:\n",
        "      t=t*int(j)\n",
        "      count+=1\n",
        "      n=str(t)\n",
        "      return count"
      ],
      "metadata": {
        "id": "cQc1ZrdHSnmS"
      },
      "execution_count": 28,
      "outputs": []
    },
    {
      "cell_type": "code",
      "source": [
        "persistance(56)"
      ],
      "metadata": {
        "colab": {
          "base_uri": "https://localhost:8080/"
        },
        "id": "IFQwEeVGTArH",
        "outputId": "dc2e1f8a-8356-4d0b-eab9-019473979fe8"
      },
      "execution_count": 29,
      "outputs": [
        {
          "output_type": "execute_result",
          "data": {
            "text/plain": [
              "1"
            ]
          },
          "metadata": {},
          "execution_count": 29
        }
      ]
    },
    {
      "cell_type": "markdown",
      "source": [
        "Exo 8: Etant donnée un tableau d'entiers, trouvez celui qui apparait un nombre impair de fois \n",
        "Il n'y aura qu'un seul entier qui apparaitra un nombre impair de fois. "
      ],
      "metadata": {
        "id": "1KVmuq47-vc5"
      }
    },
    {
      "cell_type": "code",
      "source": [
        "def find_it(seq):\n",
        "  for i in seq: \n",
        "    count=0\n",
        "    for j in seq:\n",
        "      if i==j:\n",
        "        count +=1\n",
        "        if (count % 2 !=0): \n",
        "          return i "
      ],
      "metadata": {
        "id": "QQfUm_XD--Ge"
      },
      "execution_count": 2,
      "outputs": []
    },
    {
      "cell_type": "code",
      "source": [
        "seq = [1, 2, 2, 1, 3, 3, 4]\n",
        "find_it(seq)"
      ],
      "metadata": {
        "colab": {
          "base_uri": "https://localhost:8080/"
        },
        "id": "f0VHrrCT_Rci",
        "outputId": "45e47260-dce6-4f91-caaf-89d7c4e9db74"
      },
      "execution_count": 3,
      "outputs": [
        {
          "output_type": "execute_result",
          "data": {
            "text/plain": [
              "1"
            ]
          },
          "metadata": {},
          "execution_count": 3
        }
      ]
    },
    {
      "cell_type": "markdown",
      "source": [
        "Exo 9: Le carré parfait \n",
        "étant donné un nombre entier, déterminer si c'est un carré parfait \n",
        "True = oui \n",
        "False si non \n"
      ],
      "metadata": {
        "id": "MYkQUmpa_zvx"
      }
    },
    {
      "cell_type": "code",
      "source": [
        "def is_square(n):\n",
        "  if n<0:\n",
        "    return False \n",
        "  x=int(n**0.5)\n",
        "  return (x **2==n)"
      ],
      "metadata": {
        "id": "EQnGuzrf_8zi"
      },
      "execution_count": 6,
      "outputs": []
    },
    {
      "cell_type": "code",
      "source": [
        "is_square (59)"
      ],
      "metadata": {
        "colab": {
          "base_uri": "https://localhost:8080/"
        },
        "id": "Ubi1gJK3ANY2",
        "outputId": "bfe70c18-238a-4e54-a3c9-ed74e7bf231b"
      },
      "execution_count": 7,
      "outputs": [
        {
          "output_type": "execute_result",
          "data": {
            "text/plain": [
              "False"
            ]
          },
          "metadata": {},
          "execution_count": 7
        }
      ]
    },
    {
      "cell_type": "markdown",
      "source": [
        "Exo 10: Suite de Fibonnaci à l'aide d'une boucle for stocker les 100 premiers termes de la suite dans la variable u "
      ],
      "metadata": {
        "id": "LzcgDBuqAVp3"
      }
    },
    {
      "cell_type": "code",
      "source": [
        "u=[0,1]\n",
        "for e in range(98):\n",
        "  u.append(u[-1]+ u[-2])\n",
        "  print(len(u))"
      ],
      "metadata": {
        "colab": {
          "base_uri": "https://localhost:8080/"
        },
        "id": "nxhb4MQuAntt",
        "outputId": "9595323b-ee16-4ea8-91a7-cbd6e3db2273"
      },
      "execution_count": 9,
      "outputs": [
        {
          "output_type": "stream",
          "name": "stdout",
          "text": [
            "3\n",
            "4\n",
            "5\n",
            "6\n",
            "7\n",
            "8\n",
            "9\n",
            "10\n",
            "11\n",
            "12\n",
            "13\n",
            "14\n",
            "15\n",
            "16\n",
            "17\n",
            "18\n",
            "19\n",
            "20\n",
            "21\n",
            "22\n",
            "23\n",
            "24\n",
            "25\n",
            "26\n",
            "27\n",
            "28\n",
            "29\n",
            "30\n",
            "31\n",
            "32\n",
            "33\n",
            "34\n",
            "35\n",
            "36\n",
            "37\n",
            "38\n",
            "39\n",
            "40\n",
            "41\n",
            "42\n",
            "43\n",
            "44\n",
            "45\n",
            "46\n",
            "47\n",
            "48\n",
            "49\n",
            "50\n",
            "51\n",
            "52\n",
            "53\n",
            "54\n",
            "55\n",
            "56\n",
            "57\n",
            "58\n",
            "59\n",
            "60\n",
            "61\n",
            "62\n",
            "63\n",
            "64\n",
            "65\n",
            "66\n",
            "67\n",
            "68\n",
            "69\n",
            "70\n",
            "71\n",
            "72\n",
            "73\n",
            "74\n",
            "75\n",
            "76\n",
            "77\n",
            "78\n",
            "79\n",
            "80\n",
            "81\n",
            "82\n",
            "83\n",
            "84\n",
            "85\n",
            "86\n",
            "87\n",
            "88\n",
            "89\n",
            "90\n",
            "91\n",
            "92\n",
            "93\n",
            "94\n",
            "95\n",
            "96\n",
            "97\n",
            "98\n",
            "99\n",
            "100\n"
          ]
        }
      ]
    },
    {
      "cell_type": "markdown",
      "source": [
        "Exo 11: Compléter le fonction de somme au carré de sorte qu'elle élève au carré chaque nombre qui lui est transmis, puis additionne les résultats ensemble "
      ],
      "metadata": {
        "id": "XtY1pvkUA7rs"
      }
    },
    {
      "cell_type": "code",
      "source": [
        "from re import I\n",
        "def square_sum(n):\n",
        "  s=0\n",
        "  for i in n: \n",
        "    s+=i*i \n",
        "    return s"
      ],
      "metadata": {
        "id": "btlF5lXNBcJl"
      },
      "execution_count": 11,
      "outputs": []
    },
    {
      "cell_type": "code",
      "source": [
        "square_sum([10])"
      ],
      "metadata": {
        "colab": {
          "base_uri": "https://localhost:8080/"
        },
        "id": "xKG-UGVjBo-_",
        "outputId": "c0e31d42-20df-4e6b-d669-602d67db5045"
      },
      "execution_count": 14,
      "outputs": [
        {
          "output_type": "execute_result",
          "data": {
            "text/plain": [
              "100"
            ]
          },
          "metadata": {},
          "execution_count": 14
        }
      ]
    },
    {
      "cell_type": "markdown",
      "source": [
        "Exo 12: Cette fonction doit tester si [factor] est un factor de base \n",
        "True= vrai \n",
        "sinon False"
      ],
      "metadata": {
        "id": "oJ-tvQxrB2wX"
      }
    },
    {
      "cell_type": "code",
      "source": [
        "def check_for_factor (base, factor):\n",
        "  if base % factor==0: \n",
        "    return True \n",
        "  return False "
      ],
      "metadata": {
        "id": "_I8Iu0EQB9pw"
      },
      "execution_count": 15,
      "outputs": []
    },
    {
      "cell_type": "code",
      "source": [
        "check_for_factor(34,6)"
      ],
      "metadata": {
        "colab": {
          "base_uri": "https://localhost:8080/"
        },
        "id": "heQH1eE5CIAt",
        "outputId": "26fec585-ab69-4f6b-e3c7-145d450e8886"
      },
      "execution_count": 16,
      "outputs": [
        {
          "output_type": "execute_result",
          "data": {
            "text/plain": [
              "False"
            ]
          },
          "metadata": {},
          "execution_count": 16
        }
      ]
    }
  ]
}