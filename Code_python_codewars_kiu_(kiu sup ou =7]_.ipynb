{
  "nbformat": 4,
  "nbformat_minor": 0,
  "metadata": {
    "colab": {
      "provenance": []
    },
    "kernelspec": {
      "name": "python3",
      "display_name": "Python 3"
    },
    "language_info": {
      "name": "python"
    }
  },
  "cells": [
    {
      "cell_type": "markdown",
      "source": [
        "Exo 1-Given a string of words, you need to find the highest scoring word.\n",
        "\n",
        "Each letter of a word scores points according to its position in the alphabet: a = 1, b = 2, c = 3 etc.\n",
        "\n",
        "For example, the score of abad is 8 (1 + 2 + 1 + 4).\n",
        "\n",
        "You need to return the highest scoring word as a string.\n",
        "\n",
        "If two words score the same, return the word that appears earliest in the original string.\n",
        "\n",
        "All letters will be lowercase and all inputs will be valid."
      ],
      "metadata": {
        "id": "us2LQObwWzcb"
      }
    },
    {
      "cell_type": "code",
      "execution_count": null,
      "metadata": {
        "id": "RtPjhdW_WrXB"
      },
      "outputs": [],
      "source": [
        "def high(x):\n",
        "    words = x.split()  #on divise la chaine x en mot individuelle\n",
        "    highest_score = 0 #on initialise la variable highest_score à 0\n",
        "    highest_word = '' # on initialise la variable highest_word à une chaîne de caractère vide\n",
        "\n",
        "    for word in words: #on itère à chaque mot de la liste words\n",
        "        score = sum(ord(char) - ord('a') + 1 for char in word)  #on calcure le score de chaque lettre du mot (et sa position dans l'alphabet)\n",
        "        if score > highest_score or (score == highest_score and words.index(word) < words.index(highest_word)): #on verifie si le score du mot est le plus élevé\n",
        "            highest_score = score #si oui on met à jour les deux variables highest_score et highest_word\n",
        "            highest_word = word\n",
        "\n",
        "    return highest_word"
      ]
    },
    {
      "cell_type": "markdown",
      "source": [
        "Exo 2-Build a pyramid-shaped tower, as an array/list of strings, given a positive integer number of floors. A tower block is represented with \"*\" character.\n",
        "\n",
        "For example, a tower with 3 floors looks like this:\n",
        "\n",
        "[\n",
        "  \"  *  \",\n",
        "  \" *** \",\n",
        "  \"*****\"\n",
        "]"
      ],
      "metadata": {
        "id": "DMEWQ2Q67T8j"
      }
    },
    {
      "cell_type": "code",
      "source": [
        "def tower_builder(n_floors):\n",
        "    return [(\"*\" * (i*2-1)).center(n_floors*2-1) for i in range(1, n_floors+1)] #la boucle itère à travers les nombres de 1 à n , à chaque itération\n",
        "    #la partie (\"*\" * (i*2-1)) crée une chaine de caractère contenant un nombre impair d'étoiles. La méthode center est utilisée pour centrer la chaîne d'étoiles"
      ],
      "metadata": {
        "id": "SxCQB6Z37Yoz"
      },
      "execution_count": null,
      "outputs": []
    },
    {
      "cell_type": "code",
      "source": [
        "tower_builder(10)"
      ],
      "metadata": {
        "colab": {
          "base_uri": "https://localhost:8080/"
        },
        "id": "naEmaRsK7qOU",
        "outputId": "453e7899-04ab-4c41-cfd1-c1f0f2605e5c"
      },
      "execution_count": null,
      "outputs": [
        {
          "output_type": "execute_result",
          "data": {
            "text/plain": [
              "['         *         ',\n",
              " '        ***        ',\n",
              " '       *****       ',\n",
              " '      *******      ',\n",
              " '     *********     ',\n",
              " '    ***********    ',\n",
              " '   *************   ',\n",
              " '  ***************  ',\n",
              " ' ***************** ',\n",
              " '*******************']"
            ]
          },
          "metadata": {},
          "execution_count": 3
        }
      ]
    },
    {
      "cell_type": "markdown",
      "source": [
        "Exo 3-Write a function that when given a URL as a string, parses out just the domain name and returns it as a string. For example:\n",
        "\n",
        "* url = \"http://github.com/carbonfive/raygun\" -> domain name = \"github\"\n",
        "* url = \"http://www.zombie-bites.com\"         -> domain name = \"zombie-bites\"\n",
        "* url = \"https://www.cnet.com\"                -> domain name = cnet\""
      ],
      "metadata": {
        "id": "3YmE21ex8ypg"
      }
    },
    {
      "cell_type": "code",
      "source": [
        "import re\n",
        "#on va travailler avec les regex par cette librairie\n",
        "def domain_name(url):\n",
        "    return url.split(\"www.\")[-1].split(\"//\")[-1].split(\".\")[0]\n",
        "    #on divise d'avoir la chaine de caractère de l'url en sous-chaine en utilisant \"www.\" comme séparateur.\n",
        "    #split pour diviser\n",
        "    #[-1] : on récupère de la liste résultante\n",
        "    #on redivise la sous chaine obtenue mais avec \"//\" comme séparateur , on reprend le dernier élément de la sous chaîne [-1]\n",
        "    #enfin on redivise la sous chaine obtenue en utisant \".\" comme séparateur et on prend le premier élément de la liste résultante"
      ],
      "metadata": {
        "id": "mgw-VtrU80UJ"
      },
      "execution_count": null,
      "outputs": []
    },
    {
      "cell_type": "markdown",
      "source": [
        "Exo 4-Given a list of digits, return the smallest number that could be formed from these digits, using the digits only once (ignore duplicat"
      ],
      "metadata": {
        "id": "chOvFS-C5rt_"
      }
    },
    {
      "cell_type": "code",
      "source": [
        "def min_value(digits):\n",
        "    return  int(\"\".join(map(str,sorted(set(digits)))))\n",
        "  #set(digits) élimine les doublons\n",
        "  #str converti un nombre en chaine de caractère\n",
        "  #sorted tri les éléments de la liste par ordre croissant\n",
        "  #map pour convertir chaque élément de la liste en chaine de caractère\n",
        "  #avec join on cacatène les élemnents en une seule chaine de caractère\n",
        "  #int convertit la chaine de caractère résultante en nombre entier"
      ],
      "metadata": {
        "id": "GJN0ULtW5zJe"
      },
      "execution_count": null,
      "outputs": []
    },
    {
      "cell_type": "markdown",
      "source": [
        "Exo5-A string is considered to be in title case if each word in the string is either (a) capitalised (that is, only the first letter of the word is in upper case) or (b) considered to be an exception and put entirely into lower case unless it is the first word, which is always capitalised.\n",
        "\n",
        "Write a function that will convert a string into title case, given an optional list of exceptions (minor words). The list of minor words will be given as a string with each word separated by a space. Your function should ignore the case of the minor words string -- it should behave in the same way even if the case of the minor word string is changed.\n",
        "Arguments (Haskell)\n",
        "First argument: space-delimited list of minor words that must always be lowercase except for the first word in the string.\n",
        "Second argument: the original string to be converted."
      ],
      "metadata": {
        "id": "L2hQ__KSh_q-"
      }
    },
    {
      "cell_type": "code",
      "source": [
        "import re #module de fonctionnalité des expressions régulières\n",
        "def title_case(title, minor_words=''):\n",
        "    print(title, minor_words)\n",
        "    words=re.split(' ', title) # on sépare la chaine title en mot en utilisant les espaces comme délimitateur\n",
        "    finalword=[words[0].capitalize()] #on prend le premier mot de la liste words et on met une majuscule sur la première lettre\n",
        "    minor_words = minor_words.lower().split() #on met les mots de minor_words en minuscule et on sépare chaque mot de la chaine\n",
        "    for word in words[1:]:  #on itère sur chaque mot de la liste words à partir du deuxième mot\n",
        "        finalword.append(word.capitalize() if word.lower() not in minor_words else word.lower()) #on verifie si le mot en minuscule n'appartient pas à la liste\n",
        "        #minor_words, si c'est le cas la première lettre du mot est mis en majuscule et est ajouté à la liste finalword (sinon le mot est laissé tel quel)\n",
        "\n",
        "    return \" \".join(finalword) #on retourne la finalword ou les mots sont joints par des espaces par la méthode join."
      ],
      "metadata": {
        "id": "FHu-EjPxiG4o"
      },
      "execution_count": null,
      "outputs": []
    },
    {
      "cell_type": "markdown",
      "source": [
        "Exo 5 : The maximum sum subarray problem consists in finding the maximum sum of a contiguous subsequence in an array or list of integers:\n",
        "\n",
        "max_sequence([-2, 1, -3, 4, -1, 2, 1, -5, 4])\n",
        "# should be 6: [4, -1, 2, 1]\n",
        "Easy case is when the list is made up of only positive numbers and the maximum sum is the sum of the whole array. If the list is made up of only negative numbers, return 0 instead.\n",
        "\n",
        "Empty list is considered to have zero greatest sum. Note that the empty list or array is also a valid sublist/subarray.\n",
        "\n"
      ],
      "metadata": {
        "id": "epZJbWvy0-wc"
      }
    },
    {
      "cell_type": "code",
      "source": [
        "def max_sequence(arr):\n",
        "    maxsum=0 #variable utilisée pour stocker la somme max rencontrée jusqu'à présent\n",
        "    max=0 #varialbe utilisée pour suivre la somme actuelle\n",
        "    for i in arr: #Nous itérons sur chaque nombre de la liste d'entrée\n",
        "        max += i #nous ajoutons le nombre actuel à max\n",
        "        if max > maxsum : #si max devient plus grand que max sum\n",
        "            maxsum = max  #nous mettons à jour la nouvelle valeur\n",
        "        if max < 0: #s'il devient négatif\n",
        "            max=0 # nous le réinitialisons à zéro\n",
        "    return maxsum #après avoir parcouru tous les nombres on retourne maxsum."
      ],
      "metadata": {
        "id": "kVM7SWbEjVXg"
      },
      "execution_count": null,
      "outputs": []
    }
  ]
}